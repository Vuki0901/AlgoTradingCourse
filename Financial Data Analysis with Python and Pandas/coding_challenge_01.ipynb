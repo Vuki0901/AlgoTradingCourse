{
 "cells": [
  {
   "cell_type": "code",
   "execution_count": 22,
   "metadata": {},
   "outputs": [],
   "source": [
    "import pandas as pd\n",
    "import yfinance as yf\n",
    "import matplotlib.pyplot as plt\n",
    "plt.style.use(\"seaborn-v0_8-darkgrid\")"
   ]
  },
  {
   "cell_type": "code",
   "execution_count": 23,
   "metadata": {},
   "outputs": [
    {
     "name": "stderr",
     "output_type": "stream",
     "text": [
      "[*********************100%%**********************]  1 of 1 completed\n"
     ]
    },
    {
     "data": {
      "text/html": [
       "<div>\n",
       "<style scoped>\n",
       "    .dataframe tbody tr th:only-of-type {\n",
       "        vertical-align: middle;\n",
       "    }\n",
       "\n",
       "    .dataframe tbody tr th {\n",
       "        vertical-align: top;\n",
       "    }\n",
       "\n",
       "    .dataframe thead th {\n",
       "        text-align: right;\n",
       "    }\n",
       "</style>\n",
       "<table border=\"1\" class=\"dataframe\">\n",
       "  <thead>\n",
       "    <tr style=\"text-align: right;\">\n",
       "      <th></th>\n",
       "      <th>Open</th>\n",
       "      <th>High</th>\n",
       "      <th>Low</th>\n",
       "      <th>Close</th>\n",
       "      <th>Adj Close</th>\n",
       "      <th>Volume</th>\n",
       "    </tr>\n",
       "    <tr>\n",
       "      <th>Date</th>\n",
       "      <th></th>\n",
       "      <th></th>\n",
       "      <th></th>\n",
       "      <th></th>\n",
       "      <th></th>\n",
       "      <th></th>\n",
       "    </tr>\n",
       "  </thead>\n",
       "  <tbody>\n",
       "    <tr>\n",
       "      <th>2015-01-02</th>\n",
       "      <td>121.440361</td>\n",
       "      <td>122.015457</td>\n",
       "      <td>119.187920</td>\n",
       "      <td>120.098480</td>\n",
       "      <td>103.485580</td>\n",
       "      <td>8538620</td>\n",
       "    </tr>\n",
       "    <tr>\n",
       "      <th>2015-01-05</th>\n",
       "      <td>119.858856</td>\n",
       "      <td>119.858856</td>\n",
       "      <td>117.510567</td>\n",
       "      <td>117.893959</td>\n",
       "      <td>101.585968</td>\n",
       "      <td>8770735</td>\n",
       "    </tr>\n",
       "    <tr>\n",
       "      <th>2015-01-06</th>\n",
       "      <td>117.223015</td>\n",
       "      <td>117.750183</td>\n",
       "      <td>114.683029</td>\n",
       "      <td>115.353966</td>\n",
       "      <td>99.397339</td>\n",
       "      <td>13304295</td>\n",
       "    </tr>\n",
       "    <tr>\n",
       "      <th>2015-01-07</th>\n",
       "      <td>116.024910</td>\n",
       "      <td>116.887550</td>\n",
       "      <td>114.922646</td>\n",
       "      <td>115.401894</td>\n",
       "      <td>99.438652</td>\n",
       "      <td>9106535</td>\n",
       "    </tr>\n",
       "    <tr>\n",
       "      <th>2015-01-08</th>\n",
       "      <td>116.552078</td>\n",
       "      <td>116.839622</td>\n",
       "      <td>115.641518</td>\n",
       "      <td>116.791702</td>\n",
       "      <td>100.636200</td>\n",
       "      <td>9019294</td>\n",
       "    </tr>\n",
       "    <tr>\n",
       "      <th>...</th>\n",
       "      <td>...</td>\n",
       "      <td>...</td>\n",
       "      <td>...</td>\n",
       "      <td>...</td>\n",
       "      <td>...</td>\n",
       "      <td>...</td>\n",
       "    </tr>\n",
       "    <tr>\n",
       "      <th>2020-12-23</th>\n",
       "      <td>53.230560</td>\n",
       "      <td>54.725800</td>\n",
       "      <td>52.931511</td>\n",
       "      <td>54.127705</td>\n",
       "      <td>53.378986</td>\n",
       "      <td>12139419</td>\n",
       "    </tr>\n",
       "    <tr>\n",
       "      <th>2020-12-24</th>\n",
       "      <td>54.077862</td>\n",
       "      <td>54.077862</td>\n",
       "      <td>52.931511</td>\n",
       "      <td>53.081036</td>\n",
       "      <td>52.346802</td>\n",
       "      <td>6029070</td>\n",
       "    </tr>\n",
       "    <tr>\n",
       "      <th>2020-12-28</th>\n",
       "      <td>53.330242</td>\n",
       "      <td>53.728973</td>\n",
       "      <td>52.732147</td>\n",
       "      <td>53.031197</td>\n",
       "      <td>52.297657</td>\n",
       "      <td>10793588</td>\n",
       "    </tr>\n",
       "    <tr>\n",
       "      <th>2020-12-29</th>\n",
       "      <td>53.130878</td>\n",
       "      <td>53.679134</td>\n",
       "      <td>52.532784</td>\n",
       "      <td>52.632465</td>\n",
       "      <td>51.904438</td>\n",
       "      <td>10640944</td>\n",
       "    </tr>\n",
       "    <tr>\n",
       "      <th>2020-12-30</th>\n",
       "      <td>52.732147</td>\n",
       "      <td>54.077862</td>\n",
       "      <td>52.582623</td>\n",
       "      <td>53.380085</td>\n",
       "      <td>52.641708</td>\n",
       "      <td>10156427</td>\n",
       "    </tr>\n",
       "  </tbody>\n",
       "</table>\n",
       "<p>1510 rows × 6 columns</p>\n",
       "</div>"
      ],
      "text/plain": [
       "                  Open        High         Low       Close   Adj Close  \\\n",
       "Date                                                                     \n",
       "2015-01-02  121.440361  122.015457  119.187920  120.098480  103.485580   \n",
       "2015-01-05  119.858856  119.858856  117.510567  117.893959  101.585968   \n",
       "2015-01-06  117.223015  117.750183  114.683029  115.353966   99.397339   \n",
       "2015-01-07  116.024910  116.887550  114.922646  115.401894   99.438652   \n",
       "2015-01-08  116.552078  116.839622  115.641518  116.791702  100.636200   \n",
       "...                ...         ...         ...         ...         ...   \n",
       "2020-12-23   53.230560   54.725800   52.931511   54.127705   53.378986   \n",
       "2020-12-24   54.077862   54.077862   52.931511   53.081036   52.346802   \n",
       "2020-12-28   53.330242   53.728973   52.732147   53.031197   52.297657   \n",
       "2020-12-29   53.130878   53.679134   52.532784   52.632465   51.904438   \n",
       "2020-12-30   52.732147   54.077862   52.582623   53.380085   52.641708   \n",
       "\n",
       "              Volume  \n",
       "Date                  \n",
       "2015-01-02   8538620  \n",
       "2015-01-05   8770735  \n",
       "2015-01-06  13304295  \n",
       "2015-01-07   9106535  \n",
       "2015-01-08   9019294  \n",
       "...              ...  \n",
       "2020-12-23  12139419  \n",
       "2020-12-24   6029070  \n",
       "2020-12-28  10793588  \n",
       "2020-12-29  10640944  \n",
       "2020-12-30  10156427  \n",
       "\n",
       "[1510 rows x 6 columns]"
      ]
     },
     "execution_count": 23,
     "metadata": {},
     "output_type": "execute_result"
    }
   ],
   "source": [
    "df = yf.download(\"GE\", \"2015-01-02\", \"2020-12-31\")\n",
    "df"
   ]
  },
  {
   "cell_type": "code",
   "execution_count": 24,
   "metadata": {},
   "outputs": [
    {
     "data": {
      "text/plain": [
       "Date\n",
       "2015-01-02    120.098480\n",
       "2015-01-05    117.893959\n",
       "2015-01-06    115.353966\n",
       "2015-01-07    115.401894\n",
       "2015-01-08    116.791702\n",
       "                 ...    \n",
       "2020-12-23     54.127705\n",
       "2020-12-24     53.081036\n",
       "2020-12-28     53.031197\n",
       "2020-12-29     52.632465\n",
       "2020-12-30     53.380085\n",
       "Name: Close, Length: 1510, dtype: float64"
      ]
     },
     "execution_count": 24,
     "metadata": {},
     "output_type": "execute_result"
    }
   ],
   "source": [
    "close = df.Close.copy()\n",
    "close"
   ]
  },
  {
   "cell_type": "code",
   "execution_count": 25,
   "metadata": {},
   "outputs": [
    {
     "name": "stderr",
     "output_type": "stream",
     "text": [
      "C:\\Users\\Leo\\AppData\\Local\\Temp\\ipykernel_30936\\1380220017.py:1: FutureWarning: Series.__getitem__ treating keys as positions is deprecated. In a future version, integer keys will always be treated as labels (consistent with DataFrame behavior). To access a value by position, use `ser.iloc[pos]`\n",
      "  norm = close.div(close[0])\n"
     ]
    },
    {
     "data": {
      "text/plain": [
       "0.4444692796413669"
      ]
     },
     "execution_count": 25,
     "metadata": {},
     "output_type": "execute_result"
    }
   ],
   "source": [
    "norm = close.div(close[0])\n",
    "norm.loc[\"2020-12-30\"]"
   ]
  },
  {
   "cell_type": "code",
   "execution_count": 28,
   "metadata": {},
   "outputs": [
    {
     "data": {
      "image/png": "[encoded data removed]",
      "text/plain": [
       "<Figure size 640x480 with 1 Axes>"
      ]
     },
     "metadata": {},
     "output_type": "display_data"
    }
   ],
   "source": [
    "norm.dropna().plot()\n",
    "plt.legend()\n",
    "plt.show()"
   ]
  }
 ],
 "metadata": {
  "kernelspec": {
   "display_name": "base",
   "language": "python",
   "name": "python3"
  },
  "language_info": {
   "codemirror_mode": {
    "name": "ipython",
    "version": 3
   },
   "file_extension": ".py",
   "mimetype": "text/x-python",
   "name": "python",
   "nbconvert_exporter": "python",
   "pygments_lexer": "ipython3",
   "version": "3.11.7"
  }
 },
 "nbformat": 4,
 "nbformat_minor": 2
}
